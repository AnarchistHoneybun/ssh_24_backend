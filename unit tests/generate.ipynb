{
 "cells": [
  {
   "cell_type": "code",
   "execution_count": 1,
   "metadata": {},
   "outputs": [
    {
     "data": {
      "text/plain": [
       "True"
      ]
     },
     "execution_count": 1,
     "metadata": {},
     "output_type": "execute_result"
    }
   ],
   "source": [
    "import google.generativeai as genai\n",
    "import os\n",
    "import json\n",
    "from dotenv import load_dotenv\n",
    "from typing import AsyncIterable\n",
    "\n",
    "load_dotenv()"
   ]
  },
  {
   "cell_type": "code",
   "execution_count": 2,
   "metadata": {},
   "outputs": [],
   "source": [
    "genai.configure(api_key=os.getenv(\"API\"))\n",
    "\n",
    "model = genai.GenerativeModel('gemini-1.5-flash-latest',\n",
    "                              generation_config={\"response_mime_type\": \"application/json\"},\n",
    "                              system_instruction=\"\"\"\n",
    "                                You will respond with a JSON object that provides a detailed, step-by-step roadmap tailored to the user's profile, focusing on\n",
    "                                achieving their desired role at the specified company. The output should strictly follow the JSON structure provided. The steps \n",
    "                                in the roadmap should be logical and distinct with minmal overlap, Try to make the roadmap digestable, and easy to follow as it\n",
    "                                will be integerated into the frontend and allow users to check each step off as they're done with it.\n",
    "                              \"\"\"\n",
    "                              )"
   ]
  },
  {
   "cell_type": "code",
   "execution_count": 3,
   "metadata": {},
   "outputs": [],
   "source": [
    "def generate_roadmap_prompt(skills, education, experience, role, company, timeline, learning_style):\n",
    "    prompt = f\"\"\"\n",
    "    Create a detailed, personalized roadmap for a candidate with the following profile:\n",
    "    - Skills: {\", \".join(skills)}\n",
    "    - Education: {education}\n",
    "    - Experience: {experience}\n",
    "    - Preferred learning style: {learning_style}\n",
    "    Their goal is to become a {role} at {company} within {timeline}.\n",
    "\n",
    "    Please create a tailored roadmap that focuses on the skills and experiences relevant for a {role} at {company}. Ignore skills not directly applicable to this goal.\n",
    "    The roadmap should be provided as a JSON object with the following structure for each step:\n",
    "\n",
    "    {{\n",
    "        \"Step_number\": {{Number of the step}},\n",
    "        \"Step_name\": {{Step_name}},\n",
    "        \"Time_frame\": {{Estimated time to complete this step}},\n",
    "        \"Description\": {{Concise description of the step}},\n",
    "        \"Difficulty\": {{Beginner, Intermediate, Advanced}},\n",
    "        \"Prerequisites\": [{{Any prerequisites for this step}}],\n",
    "        \"Sub_steps\": [\n",
    "            {{\n",
    "                \"Sub_step_number\": {{Number of the sub-step}},\n",
    "                \"Sub_step_name\": {{Name of the sub-step}},\n",
    "                \"Sub_step_description\": {{Brief description of the sub-step}},\n",
    "                \"Difficulty\": {{Beginner, Intermediate, Advanced}},\n",
    "                \"Status\" : Incomplete,\n",
    "                \"Substep_roadmap\" : None\n",
    "            }}\n",
    "        ],\n",
    "        \"Resources\": [{{List of recommended resources for this step}}],\n",
    "        \"Status\" : Incomplete,\n",
    "        \"roadmap_type\" : {{\"Choose ONE out of the following categories:\n",
    "                \"Software Development\",\n",
    "                \"Electronics Engineering\",\n",
    "                \"Creative Arts\",\n",
    "                \"Data Science and Analytics\",\n",
    "                \"Machine Learning and AI\",\n",
    "                \"Web Development\",\n",
    "                \"Digital Marketing\",\n",
    "                \"Product Management\",\n",
    "                \"Business and Finance\",\n",
    "                \"Healthcare and Medicine\",\n",
    "                \"Education and Training\",\n",
    "                \"Human Resources\",\n",
    "                \"Sales and Business Development\",\n",
    "                \"Legal and Compliance\",\n",
    "                \"Public Relations and Communications\",\n",
    "                \"Cybersecurity\",\n",
    "                \"Operations and Supply Chain Management\",\n",
    "                \"Project Management\",\n",
    "                \"Social Impact and Non-Profit Work\",\n",
    "                \"Media and Entertainment\"]\n",
    "                If it doesnt fit any of them, create a category\n",
    "            }}\n",
    "    }}\n",
    "\n",
    "    The substeps should be distinct, with minimal overlap.\n",
    "\n",
    "    Ensure the roadmap covers these key areas:\n",
    "    1. Skill Enhancement: Improve existing skills and add new ones relevant to {role} at {company}.\n",
    "    2. Key Milestones: Define concrete achievements related to the goal.\n",
    "    3. Real-World Activities: Projects, internships, competitions, contributions, and certifications.\n",
    "    4. Company-Specific Focus: Highlight expectations and practices specific to {company} for {role}.\n",
    "    5. Networking and Professional Growth: Suggest networking opportunities and events.\n",
    "\n",
    "    Consider these guidelines:\n",
    "    - Tailor the difficulty and content to the user's current skill level and the requirements of {role} at {company}.\n",
    "    - Ensure a logical progression of steps, with advanced topics introduced only after necessary foundations are built.\n",
    "    - Include specific technologies, frameworks, and practices commonly used at {company} for {role}.\n",
    "    - Align recommendations with the user's preferred learning style ({learning_style}).\n",
    "    - Provide specific, actionable sub-steps for each main step.\n",
    "\n",
    "    Provide only the JSON object as the response, with no additional text or explanation.\n",
    "    \"\"\"\n",
    "    return prompt\n"
   ]
  },
  {
   "cell_type": "code",
   "execution_count": 4,
   "metadata": {},
   "outputs": [],
   "source": [
    "def generate_substep_roadmap_prompt(sub_step_name, sub_step_description, prerequisites, learning_style, role, company):\n",
    "    prompt = f\"\"\"\n",
    "    \n",
    "    The following information is about a step in the roadmap to get {role} at {company}. Create a mini roadmap to help the user achieve the following sub-step:\n",
    "    \n",
    "    Sub-step Name: {sub_step_name}\n",
    "    Sub-step Description: {sub_step_description}\n",
    "    Prerequisites: {prerequisites}\n",
    "    Preferred Learning Style: {learning_style}\n",
    "    \n",
    "    This mini roadmap should consist of at most 3-5 steps, depending on the step's complexity and be provided as a JSON object with the following structure:\n",
    "\n",
    "    {{\n",
    "        \"Sub_step_number\": {{Number of the sub-step}},\n",
    "        \"Step_number\": {{Number of the step within the mini roadmap}},\n",
    "        \"Step_name\": {{Name of the step}},\n",
    "        \"Time_frame\": {{Estimated time to complete this step}},\n",
    "        \"Description\": {{Concise description of the step}},\n",
    "        \"Difficulty\": {{Beginner, Intermediate, Advanced}},\n",
    "        \"Resources\": [{{List of recommended resources for this step}}]\n",
    "        \"Substep_roadmap\" : None, \n",
    "        \"Status\" : Incomplete\n",
    "\n",
    "    }}\n",
    "\n",
    "    Ensure the mini roadmap:\n",
    "    1. Breaks down the sub-step into manageable actions.\n",
    "    2. Follows a logical progression, considering the prerequisites and the user's current skill level.\n",
    "    3. Aligns with the user's preferred learning style ({learning_style}).\n",
    "    4. Focuses on practical, actionable steps with specific resources to aid in learning.\n",
    "\n",
    "    Provide only the JSON object as the response, with no additional text or explanation.\n",
    "    \"\"\"\n",
    "    return prompt"
   ]
  },
  {
   "cell_type": "code",
   "execution_count": 5,
   "metadata": {},
   "outputs": [],
   "source": [
    "def extract_json_steps(response_stream):\n",
    "    accumulated_json = \"\"\n",
    "    step_count = 1\n",
    "    extracted_steps = {}\n",
    "\n",
    "    for chunk in response_stream:\n",
    "        if chunk.text:\n",
    "            accumulated_json += chunk.text\n",
    "        \n",
    "        while True:\n",
    "            step_start = accumulated_json.find(f'\"{step_count}\":')\n",
    "            \n",
    "            if step_start == -1:\n",
    "                break  # No more steps to extract in the current accumulated JSON\n",
    "            \n",
    "            step_end = accumulated_json.find(f'\"{step_count + 1}\":', step_start)\n",
    "            if step_end == -1:\n",
    "                step_end = accumulated_json.rfind('}')  # Find the last closing brace\n",
    "            \n",
    "            step_json = accumulated_json[step_start:step_end].strip().rstrip(',')\n",
    "            step_json = \"{\" + step_json + \"}\"\n",
    "            \n",
    "            try:\n",
    "                parsed_step = json.loads(step_json)\n",
    "                step = parsed_step[str(step_count)]\n",
    "                extracted_steps[str(step_count)] = step\n",
    "                \n",
    "                yield {str(step_count): step}\n",
    "                \n",
    "                step_count += 1\n",
    "                accumulated_json = accumulated_json[step_end:].strip()\n",
    "                \n",
    "                if accumulated_json.startswith('}'):\n",
    "                    break\n",
    "            except json.JSONDecodeError:\n",
    "                break\n"
   ]
  },
  {
   "cell_type": "code",
   "execution_count": 6,
   "metadata": {},
   "outputs": [],
   "source": [
    "skills = \"Car driving license\"\n",
    "education = \"12th pass\"\n",
    "experience = \"NA\"\n",
    "role = \"Truck driver in canada\"\n",
    "company = \"UPS\"\n",
    "timeline = \"2 years\"\n",
    "learning_style = \"Any\""
   ]
  },
  {
   "cell_type": "code",
   "execution_count": 7,
   "metadata": {},
   "outputs": [
    {
     "ename": "ValueError",
     "evalue": "Invalid operation: The `response.text` quick accessor requires the response to contain a valid `Part`, but none were returned. Please check the `candidate.safety_ratings` to determine if the response was blocked.",
     "output_type": "error",
     "traceback": [
      "\u001b[1;31m---------------------------------------------------------------------------\u001b[0m",
      "\u001b[1;31mValueError\u001b[0m                                Traceback (most recent call last)",
      "Cell \u001b[1;32mIn[7], line 5\u001b[0m\n\u001b[0;32m      2\u001b[0m response_mainmap \u001b[38;5;241m=\u001b[39m model\u001b[38;5;241m.\u001b[39mgenerate_content(P_substep, stream\u001b[38;5;241m=\u001b[39m\u001b[38;5;28;01mTrue\u001b[39;00m)\n\u001b[0;32m      4\u001b[0m extracted_steps \u001b[38;5;241m=\u001b[39m {}\n\u001b[1;32m----> 5\u001b[0m \u001b[38;5;28;43;01mfor\u001b[39;49;00m\u001b[43m \u001b[49m\u001b[43mstep\u001b[49m\u001b[43m \u001b[49m\u001b[38;5;129;43;01min\u001b[39;49;00m\u001b[43m \u001b[49m\u001b[43mextract_json_steps\u001b[49m\u001b[43m(\u001b[49m\u001b[43mresponse_mainmap\u001b[49m\u001b[43m)\u001b[49m\u001b[43m:\u001b[49m\n\u001b[0;32m      6\u001b[0m \u001b[43m    \u001b[49m\u001b[38;5;28;43mprint\u001b[39;49m\u001b[43m(\u001b[49m\u001b[43mjson\u001b[49m\u001b[38;5;241;43m.\u001b[39;49m\u001b[43mdumps\u001b[49m\u001b[43m(\u001b[49m\u001b[43mstep\u001b[49m\u001b[43m,\u001b[49m\u001b[43m \u001b[49m\u001b[43mindent\u001b[49m\u001b[38;5;241;43m=\u001b[39;49m\u001b[38;5;241;43m2\u001b[39;49m\u001b[43m)\u001b[49m\u001b[43m)\u001b[49m\n\u001b[0;32m      7\u001b[0m \u001b[43m    \u001b[49m\u001b[43mextracted_steps\u001b[49m\u001b[38;5;241;43m.\u001b[39;49m\u001b[43mupdate\u001b[49m\u001b[43m(\u001b[49m\u001b[43mstep\u001b[49m\u001b[43m)\u001b[49m\n",
      "Cell \u001b[1;32mIn[5], line 7\u001b[0m, in \u001b[0;36mextract_json_steps\u001b[1;34m(response_stream)\u001b[0m\n\u001b[0;32m      4\u001b[0m extracted_steps \u001b[38;5;241m=\u001b[39m {}\n\u001b[0;32m      6\u001b[0m \u001b[38;5;28;01mfor\u001b[39;00m chunk \u001b[38;5;129;01min\u001b[39;00m response_stream:\n\u001b[1;32m----> 7\u001b[0m     \u001b[38;5;28;01mif\u001b[39;00m \u001b[43mchunk\u001b[49m\u001b[38;5;241;43m.\u001b[39;49m\u001b[43mtext\u001b[49m:\n\u001b[0;32m      8\u001b[0m         accumulated_json \u001b[38;5;241m+\u001b[39m\u001b[38;5;241m=\u001b[39m chunk\u001b[38;5;241m.\u001b[39mtext\n\u001b[0;32m     10\u001b[0m     \u001b[38;5;28;01mwhile\u001b[39;00m \u001b[38;5;28;01mTrue\u001b[39;00m:\n",
      "File \u001b[1;32mc:\\Users\\Parth Gupta\\AppData\\Local\\Programs\\Python\\Python311\\Lib\\site-packages\\google\\generativeai\\types\\generation_types.py:436\u001b[0m, in \u001b[0;36mBaseGenerateContentResponse.text\u001b[1;34m(self)\u001b[0m\n\u001b[0;32m    434\u001b[0m parts \u001b[38;5;241m=\u001b[39m \u001b[38;5;28mself\u001b[39m\u001b[38;5;241m.\u001b[39mparts\n\u001b[0;32m    435\u001b[0m \u001b[38;5;28;01mif\u001b[39;00m \u001b[38;5;129;01mnot\u001b[39;00m parts:\n\u001b[1;32m--> 436\u001b[0m     \u001b[38;5;28;01mraise\u001b[39;00m \u001b[38;5;167;01mValueError\u001b[39;00m(\n\u001b[0;32m    437\u001b[0m         \u001b[38;5;124m\"\u001b[39m\u001b[38;5;124mInvalid operation: The `response.text` quick accessor requires the response to contain a valid `Part`, \u001b[39m\u001b[38;5;124m\"\u001b[39m\n\u001b[0;32m    438\u001b[0m         \u001b[38;5;124m\"\u001b[39m\u001b[38;5;124mbut none were returned. Please check the `candidate.safety_ratings` to determine if the response was blocked.\u001b[39m\u001b[38;5;124m\"\u001b[39m\n\u001b[0;32m    439\u001b[0m     )\n\u001b[0;32m    441\u001b[0m texts \u001b[38;5;241m=\u001b[39m []\n\u001b[0;32m    442\u001b[0m \u001b[38;5;28;01mfor\u001b[39;00m part \u001b[38;5;129;01min\u001b[39;00m parts:\n",
      "\u001b[1;31mValueError\u001b[0m: Invalid operation: The `response.text` quick accessor requires the response to contain a valid `Part`, but none were returned. Please check the `candidate.safety_ratings` to determine if the response was blocked."
     ]
    }
   ],
   "source": [
    "P_substep = generate_roadmap_prompt(skills, education, experience, role, company, timeline, learning_style)\n",
    "response_mainmap = model.generate_content(P_substep, stream=True)\n",
    "\n",
    "extracted_steps = {}\n",
    "for step in extract_json_steps(response_mainmap):\n",
    "    print(json.dumps(step, indent=2))\n",
    "    extracted_steps.update(step)\n",
    "\n",
    "with open(\"roadmap.json\", 'w') as json_file:\n",
    "    json.dump(extracted_steps, json_file, indent=4)\n"
   ]
  },
  {
   "cell_type": "code",
   "execution_count": 12,
   "metadata": {},
   "outputs": [
    {
     "ename": "TypeError",
     "evalue": "extract_json_steps() takes 1 positional argument but 4 were given",
     "output_type": "error",
     "traceback": [
      "\u001b[1;31m---------------------------------------------------------------------------\u001b[0m",
      "\u001b[1;31mTypeError\u001b[0m                                 Traceback (most recent call last)",
      "Cell \u001b[1;32mIn[12], line 9\u001b[0m\n\u001b[0;32m      6\u001b[0m extracted_steps \u001b[38;5;241m=\u001b[39m {}\n\u001b[0;32m      8\u001b[0m \u001b[38;5;28;01mfor\u001b[39;00m chunk \u001b[38;5;129;01min\u001b[39;00m response_substep:\n\u001b[1;32m----> 9\u001b[0m     accumulated_json, step_count, extracted_steps \u001b[38;5;241m=\u001b[39m \u001b[43mextract_json_steps\u001b[49m\u001b[43m(\u001b[49m\u001b[43mchunk\u001b[49m\u001b[38;5;241;43m.\u001b[39;49m\u001b[43mtext\u001b[49m\u001b[43m,\u001b[49m\u001b[43m \u001b[49m\u001b[43maccumulated_json\u001b[49m\u001b[43m,\u001b[49m\u001b[43m \u001b[49m\u001b[43mstep_count\u001b[49m\u001b[43m,\u001b[49m\u001b[43m \u001b[49m\u001b[43mextracted_steps\u001b[49m\u001b[43m)\u001b[49m\n\u001b[0;32m     11\u001b[0m \u001b[38;5;28;01mwith\u001b[39;00m \u001b[38;5;28mopen\u001b[39m(\u001b[38;5;124m\"\u001b[39m\u001b[38;5;124msubmap.json\u001b[39m\u001b[38;5;124m\"\u001b[39m, \u001b[38;5;124m'\u001b[39m\u001b[38;5;124mw\u001b[39m\u001b[38;5;124m'\u001b[39m) \u001b[38;5;28;01mas\u001b[39;00m json_file:\n\u001b[0;32m     12\u001b[0m     json\u001b[38;5;241m.\u001b[39mdump(extracted_steps, json_file, indent\u001b[38;5;241m=\u001b[39m\u001b[38;5;241m4\u001b[39m)\n",
      "\u001b[1;31mTypeError\u001b[0m: extract_json_steps() takes 1 positional argument but 4 were given"
     ]
    }
   ],
   "source": [
    "P_substep = generate_substep_roadmap_prompt(\"Prepare for Interviews\", \"Practice and refine your interview skills for ML positions at Microsoft.\", \"Strong ML knowledge and portfolio\", learning_style, role, company)\n",
    "response_substep = model.generate_content(P_substep, stream=True)\n",
    "\n",
    "accumulated_json = \"\"\n",
    "step_count = 1\n",
    "extracted_steps = {}\n",
    "\n",
    "for chunk in response_substep:\n",
    "    accumulated_json, step_count, extracted_steps = extract_json_steps(chunk.text, accumulated_json, step_count, extracted_steps)\n",
    "\n",
    "with open(\"submap.json\", 'w') as json_file:\n",
    "    json.dump(extracted_steps, json_file, indent=4)\n"
   ]
  }
 ],
 "metadata": {
  "kernelspec": {
   "display_name": "Python 3",
   "language": "python",
   "name": "python3"
  },
  "language_info": {
   "codemirror_mode": {
    "name": "ipython",
    "version": 3
   },
   "file_extension": ".py",
   "mimetype": "text/x-python",
   "name": "python",
   "nbconvert_exporter": "python",
   "pygments_lexer": "ipython3",
   "version": "3.11.9"
  }
 },
 "nbformat": 4,
 "nbformat_minor": 2
}
